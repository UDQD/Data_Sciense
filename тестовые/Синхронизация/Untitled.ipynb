{
 "cells": [
  {
   "cell_type": "code",
   "execution_count": 1,
   "id": "00246194",
   "metadata": {},
   "outputs": [],
   "source": [
    "import pandas as pd"
   ]
  },
  {
   "cell_type": "code",
   "execution_count": 6,
   "id": "3dffa814",
   "metadata": {},
   "outputs": [],
   "source": [
    "prod_df = pd.read_csv('Продукты.csv')\n",
    "zak_df = pd.read_csv('Заказы.csv')\n",
    "nps_df = pd.read_csv('NPS.csv')"
   ]
  },
  {
   "cell_type": "code",
   "execution_count": 8,
   "id": "70c72606",
   "metadata": {},
   "outputs": [
    {
     "data": {
      "text/html": [
       "<div>\n",
       "<style scoped>\n",
       "    .dataframe tbody tr th:only-of-type {\n",
       "        vertical-align: middle;\n",
       "    }\n",
       "\n",
       "    .dataframe tbody tr th {\n",
       "        vertical-align: top;\n",
       "    }\n",
       "\n",
       "    .dataframe thead th {\n",
       "        text-align: right;\n",
       "    }\n",
       "</style>\n",
       "<table border=\"1\" class=\"dataframe\">\n",
       "  <thead>\n",
       "    <tr style=\"text-align: right;\">\n",
       "      <th></th>\n",
       "      <th>ID продукта</th>\n",
       "      <th>Название продукта</th>\n",
       "      <th>Юнит</th>\n",
       "    </tr>\n",
       "  </thead>\n",
       "  <tbody>\n",
       "    <tr>\n",
       "      <th>0</th>\n",
       "      <td>product1</td>\n",
       "      <td>Здоровый образ жизни</td>\n",
       "      <td>A</td>\n",
       "    </tr>\n",
       "    <tr>\n",
       "      <th>1</th>\n",
       "      <td>product2</td>\n",
       "      <td>Экскурс в историю моды</td>\n",
       "      <td>A</td>\n",
       "    </tr>\n",
       "    <tr>\n",
       "      <th>2</th>\n",
       "      <td>product3</td>\n",
       "      <td>Как научиться ценить музыку</td>\n",
       "      <td>B</td>\n",
       "    </tr>\n",
       "    <tr>\n",
       "      <th>3</th>\n",
       "      <td>product4</td>\n",
       "      <td>Путеводитель по истории искусства</td>\n",
       "      <td>B</td>\n",
       "    </tr>\n",
       "    <tr>\n",
       "      <th>4</th>\n",
       "      <td>product5</td>\n",
       "      <td>История западных культур</td>\n",
       "      <td>A</td>\n",
       "    </tr>\n",
       "    <tr>\n",
       "      <th>5</th>\n",
       "      <td>product6</td>\n",
       "      <td>Современный этикет</td>\n",
       "      <td>B</td>\n",
       "    </tr>\n",
       "    <tr>\n",
       "      <th>6</th>\n",
       "      <td>product7</td>\n",
       "      <td>Как аргументировать свою позицию</td>\n",
       "      <td>A</td>\n",
       "    </tr>\n",
       "    <tr>\n",
       "      <th>7</th>\n",
       "      <td>product8</td>\n",
       "      <td>Что скрыл художник?</td>\n",
       "      <td>A</td>\n",
       "    </tr>\n",
       "    <tr>\n",
       "      <th>8</th>\n",
       "      <td>product9</td>\n",
       "      <td>Искусство киноязыка</td>\n",
       "      <td>B</td>\n",
       "    </tr>\n",
       "    <tr>\n",
       "      <th>9</th>\n",
       "      <td>product10</td>\n",
       "      <td>Введение в нейробиологию</td>\n",
       "      <td>B</td>\n",
       "    </tr>\n",
       "    <tr>\n",
       "      <th>10</th>\n",
       "      <td>product11</td>\n",
       "      <td>Главные идеи в мировой философии</td>\n",
       "      <td>B</td>\n",
       "    </tr>\n",
       "  </tbody>\n",
       "</table>\n",
       "</div>"
      ],
      "text/plain": [
       "   ID продукта                  Название продукта Юнит\n",
       "0     product1               Здоровый образ жизни    A\n",
       "1     product2             Экскурс в историю моды    A\n",
       "2     product3        Как научиться ценить музыку    B\n",
       "3     product4  Путеводитель по истории искусства    B\n",
       "4     product5           История западных культур    A\n",
       "5     product6                 Современный этикет    B\n",
       "6     product7   Как аргументировать свою позицию    A\n",
       "7     product8                Что скрыл художник?    A\n",
       "8     product9                Искусство киноязыка    B\n",
       "9    product10           Введение в нейробиологию    B\n",
       "10   product11   Главные идеи в мировой философии    B"
      ]
     },
     "execution_count": 8,
     "metadata": {},
     "output_type": "execute_result"
    }
   ],
   "source": [
    "prod_df"
   ]
  },
  {
   "cell_type": "code",
   "execution_count": null,
   "id": "df963440",
   "metadata": {},
   "outputs": [],
   "source": []
  }
 ],
 "metadata": {
  "kernelspec": {
   "display_name": "Python 3 (ipykernel)",
   "language": "python",
   "name": "python3"
  },
  "language_info": {
   "codemirror_mode": {
    "name": "ipython",
    "version": 3
   },
   "file_extension": ".py",
   "mimetype": "text/x-python",
   "name": "python",
   "nbconvert_exporter": "python",
   "pygments_lexer": "ipython3",
   "version": "3.9.7"
  }
 },
 "nbformat": 4,
 "nbformat_minor": 5
}
